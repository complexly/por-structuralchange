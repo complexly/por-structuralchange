{
 "cells": [
  {
   "cell_type": "code",
   "execution_count": null,
   "metadata": {},
   "outputs": [],
   "source": [
    "import pandas as pd\n",
    "import numpy as np\n",
    "import matplotlib.pyplot as plt\n",
    "from constants import SAVE_FOLDER"
   ]
  },
  {
   "cell_type": "markdown",
   "metadata": {},
   "source": [
    "## Load region-product export data"
   ]
  },
  {
   "cell_type": "code",
   "execution_count": null,
   "metadata": {},
   "outputs": [],
   "source": [
    "trade = pd.read_parquet(f'{SAVE_FOLDER}/cleaned.parquet')\n",
    "trade.head()"
   ]
  },
  {
   "cell_type": "code",
   "execution_count": null,
   "metadata": {},
   "outputs": [],
   "source": [
    "## function that take the parameter, do linear to log transform and return dataset\n",
    "def transform(R0,trade):\n",
    "    df = trade.assign(llrca = np.log(1+trade.rca/R0)/np.log(1+1/R0))\n",
    "    df['avgrca_part_p'] = df.llrca*df.pivec_p\n",
    "    df['avgrca_p'] = df.groupby(['year','region'])['avgrca_part_p'].transform(sum)\n",
    "    df['rct_p'] = np.where(df.avgrca_p>0,df.llrca/df.avgrca_p,0)\n",
    "    df['rct_demean_p'] = df.rct_p-df.groupby('prod').rct_p.transform('mean')\n",
    "    df['projpart_demean'] = df.pcil_p*df.rct_demean_p\n",
    "    df['proj_demean'] = df.groupby(['year','region'])['projpart_demean'].transform(sum)\n",
    "    df['loading_demean'] = df.proj_demean*df.pci_p\n",
    "    return (np.square(df.loading_demean).sum(),np.square(df.loading_demean).sum()/np.square(df.rct_demean_p).sum())"
   ]
  },
  {
   "cell_type": "code",
   "execution_count": null,
   "metadata": {},
   "outputs": [],
   "source": [
    "## loop over the possible range of parameter\n",
    "res = np.zeros((40,2))\n",
    "R0s = 10**np.arange(-8,2,0.25)\n",
    "for i in range(40):\n",
    "    res[i,:] = transform(R0s[i],trade)"
   ]
  },
  {
   "cell_type": "code",
   "execution_count": null,
   "metadata": {},
   "outputs": [],
   "source": [
    "## plot the result\n",
    "plt.plot(np.log10(R0s),res[:,1])\n",
    "plt.xlabel(\"log10(R0)\")\n",
    "plt.ylabel(\"Var(ECI*) ratio\")"
   ]
  },
  {
   "cell_type": "markdown",
   "metadata": {},
   "source": [
    "R0 = 0.115 at the peak was chosen as parameter for future analysis"
   ]
  }
 ],
 "metadata": {
  "kernelspec": {
   "display_name": "Python 3 (ipykernel)",
   "language": "python",
   "name": "python3"
  },
  "language_info": {
   "codemirror_mode": {
    "name": "ipython",
    "version": 3
   },
   "file_extension": ".py",
   "mimetype": "text/x-python",
   "name": "python",
   "nbconvert_exporter": "python",
   "pygments_lexer": "ipython3",
   "version": "3.11.9"
  }
 },
 "nbformat": 4,
 "nbformat_minor": 4
}
