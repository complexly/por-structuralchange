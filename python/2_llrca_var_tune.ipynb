{
 "cells": [
  {
   "cell_type": "code",
   "execution_count": 1,
   "metadata": {},
   "outputs": [],
   "source": [
    "import pandas as pd\n",
    "import numpy as np\n",
    "import matplotlib.pyplot as plt"
   ]
  },
  {
   "cell_type": "markdown",
   "metadata": {},
   "source": [
    "## Load region-product export data"
   ]
  },
  {
   "cell_type": "code",
   "execution_count": 2,
   "metadata": {},
   "outputs": [
    {
     "data": {
      "text/html": [
       "<div>\n",
       "<style scoped>\n",
       "    .dataframe tbody tr th:only-of-type {\n",
       "        vertical-align: middle;\n",
       "    }\n",
       "\n",
       "    .dataframe tbody tr th {\n",
       "        vertical-align: top;\n",
       "    }\n",
       "\n",
       "    .dataframe thead th {\n",
       "        text-align: right;\n",
       "    }\n",
       "</style>\n",
       "<table border=\"1\" class=\"dataframe\">\n",
       "  <thead>\n",
       "    <tr style=\"text-align: right;\">\n",
       "      <th></th>\n",
       "      <th>year</th>\n",
       "      <th>region</th>\n",
       "      <th>prod</th>\n",
       "      <th>export</th>\n",
       "      <th>regionsum</th>\n",
       "      <th>prodsum</th>\n",
       "      <th>yearsum</th>\n",
       "      <th>rca</th>\n",
       "      <th>binrca</th>\n",
       "      <th>pivec_p</th>\n",
       "      <th>pivec_m</th>\n",
       "      <th>pivec_c</th>\n",
       "      <th>pci</th>\n",
       "      <th>pci_m</th>\n",
       "      <th>pci_p</th>\n",
       "      <th>pci_c</th>\n",
       "      <th>pcil_m</th>\n",
       "      <th>pcil_p</th>\n",
       "      <th>pcil_c</th>\n",
       "    </tr>\n",
       "  </thead>\n",
       "  <tbody>\n",
       "    <tr>\n",
       "      <th>0</th>\n",
       "      <td>1962</td>\n",
       "      <td>ABW</td>\n",
       "      <td>001</td>\n",
       "      <td>0.000000</td>\n",
       "      <td>0.000000e+00</td>\n",
       "      <td>6.782654e+08</td>\n",
       "      <td>1.234760e+11</td>\n",
       "      <td>0.000000</td>\n",
       "      <td>0</td>\n",
       "      <td>0.008395</td>\n",
       "      <td>0.002745</td>\n",
       "      <td>0.003898</td>\n",
       "      <td>-0.058055</td>\n",
       "      <td>-2.307477</td>\n",
       "      <td>-0.919122</td>\n",
       "      <td>-1.095074</td>\n",
       "      <td>-0.006335</td>\n",
       "      <td>-0.007716</td>\n",
       "      <td>-0.004269</td>\n",
       "    </tr>\n",
       "    <tr>\n",
       "      <th>1</th>\n",
       "      <td>1962</td>\n",
       "      <td>AFG</td>\n",
       "      <td>001</td>\n",
       "      <td>0.000000</td>\n",
       "      <td>8.181017e+07</td>\n",
       "      <td>6.782654e+08</td>\n",
       "      <td>1.234760e+11</td>\n",
       "      <td>0.000000</td>\n",
       "      <td>0</td>\n",
       "      <td>0.008395</td>\n",
       "      <td>0.002745</td>\n",
       "      <td>0.003898</td>\n",
       "      <td>-0.058055</td>\n",
       "      <td>-2.307477</td>\n",
       "      <td>-0.919122</td>\n",
       "      <td>-1.095074</td>\n",
       "      <td>-0.006335</td>\n",
       "      <td>-0.007716</td>\n",
       "      <td>-0.004269</td>\n",
       "    </tr>\n",
       "    <tr>\n",
       "      <th>2</th>\n",
       "      <td>1962</td>\n",
       "      <td>AGO</td>\n",
       "      <td>001</td>\n",
       "      <td>9682.848633</td>\n",
       "      <td>1.311828e+08</td>\n",
       "      <td>6.782654e+08</td>\n",
       "      <td>1.234760e+11</td>\n",
       "      <td>0.013437</td>\n",
       "      <td>0</td>\n",
       "      <td>0.008395</td>\n",
       "      <td>0.002745</td>\n",
       "      <td>0.003898</td>\n",
       "      <td>-0.058055</td>\n",
       "      <td>-2.307477</td>\n",
       "      <td>-0.919122</td>\n",
       "      <td>-1.095074</td>\n",
       "      <td>-0.006335</td>\n",
       "      <td>-0.007716</td>\n",
       "      <td>-0.004269</td>\n",
       "    </tr>\n",
       "    <tr>\n",
       "      <th>3</th>\n",
       "      <td>1962</td>\n",
       "      <td>AIA</td>\n",
       "      <td>001</td>\n",
       "      <td>0.000000</td>\n",
       "      <td>0.000000e+00</td>\n",
       "      <td>6.782654e+08</td>\n",
       "      <td>1.234760e+11</td>\n",
       "      <td>0.000000</td>\n",
       "      <td>0</td>\n",
       "      <td>0.008395</td>\n",
       "      <td>0.002745</td>\n",
       "      <td>0.003898</td>\n",
       "      <td>-0.058055</td>\n",
       "      <td>-2.307477</td>\n",
       "      <td>-0.919122</td>\n",
       "      <td>-1.095074</td>\n",
       "      <td>-0.006335</td>\n",
       "      <td>-0.007716</td>\n",
       "      <td>-0.004269</td>\n",
       "    </tr>\n",
       "    <tr>\n",
       "      <th>4</th>\n",
       "      <td>1962</td>\n",
       "      <td>ALB</td>\n",
       "      <td>001</td>\n",
       "      <td>0.000000</td>\n",
       "      <td>2.301677e+06</td>\n",
       "      <td>6.782654e+08</td>\n",
       "      <td>1.234760e+11</td>\n",
       "      <td>0.000000</td>\n",
       "      <td>0</td>\n",
       "      <td>0.008395</td>\n",
       "      <td>0.002745</td>\n",
       "      <td>0.003898</td>\n",
       "      <td>-0.058055</td>\n",
       "      <td>-2.307477</td>\n",
       "      <td>-0.919122</td>\n",
       "      <td>-1.095074</td>\n",
       "      <td>-0.006335</td>\n",
       "      <td>-0.007716</td>\n",
       "      <td>-0.004269</td>\n",
       "    </tr>\n",
       "  </tbody>\n",
       "</table>\n",
       "</div>"
      ],
      "text/plain": [
       "   year region prod       export     regionsum       prodsum       yearsum  \\\n",
       "0  1962    ABW  001     0.000000  0.000000e+00  6.782654e+08  1.234760e+11   \n",
       "1  1962    AFG  001     0.000000  8.181017e+07  6.782654e+08  1.234760e+11   \n",
       "2  1962    AGO  001  9682.848633  1.311828e+08  6.782654e+08  1.234760e+11   \n",
       "3  1962    AIA  001     0.000000  0.000000e+00  6.782654e+08  1.234760e+11   \n",
       "4  1962    ALB  001     0.000000  2.301677e+06  6.782654e+08  1.234760e+11   \n",
       "\n",
       "        rca  binrca   pivec_p   pivec_m   pivec_c       pci     pci_m  \\\n",
       "0  0.000000       0  0.008395  0.002745  0.003898 -0.058055 -2.307477   \n",
       "1  0.000000       0  0.008395  0.002745  0.003898 -0.058055 -2.307477   \n",
       "2  0.013437       0  0.008395  0.002745  0.003898 -0.058055 -2.307477   \n",
       "3  0.000000       0  0.008395  0.002745  0.003898 -0.058055 -2.307477   \n",
       "4  0.000000       0  0.008395  0.002745  0.003898 -0.058055 -2.307477   \n",
       "\n",
       "      pci_p     pci_c    pcil_m    pcil_p    pcil_c  \n",
       "0 -0.919122 -1.095074 -0.006335 -0.007716 -0.004269  \n",
       "1 -0.919122 -1.095074 -0.006335 -0.007716 -0.004269  \n",
       "2 -0.919122 -1.095074 -0.006335 -0.007716 -0.004269  \n",
       "3 -0.919122 -1.095074 -0.006335 -0.007716 -0.004269  \n",
       "4 -0.919122 -1.095074 -0.006335 -0.007716 -0.004269  "
      ]
     },
     "execution_count": 2,
     "metadata": {},
     "output_type": "execute_result"
    }
   ],
   "source": [
    "trade = pd.read_parquet('data/cleaned.parquet')\n",
    "trade.head()"
   ]
  },
  {
   "cell_type": "code",
   "execution_count": 3,
   "metadata": {},
   "outputs": [],
   "source": [
    "## function that take the parameter, do linear to log transform and return dataset\n",
    "def transform(R0,trade):\n",
    "    df = trade.assign(llrca = np.log(1+trade.rca/R0)/np.log(1+1/R0))\n",
    "    df['avgrca_part_p'] = df.llrca*df.pivec_p\n",
    "    df['avgrca_p'] = df.groupby(['year','region'])['avgrca_part_p'].transform(sum)\n",
    "    df['rct_p'] = np.where(df.avgrca_p>0,df.llrca/df.avgrca_p,0)\n",
    "    df['rct_demean_p'] = df.rct_p-df.groupby('prod').rct_p.transform('mean')\n",
    "    df['projpart_demean'] = df.pcil_p*df.rct_demean_p\n",
    "    df['proj_demean'] = df.groupby(['year','region'])['projpart_demean'].transform(sum)\n",
    "    df['loading_demean'] = df.proj_demean*df.pci_p\n",
    "    return (np.square(df.loading_demean).sum(),np.square(df.loading_demean).sum()/np.square(df.rct_demean_p).sum())"
   ]
  },
  {
   "cell_type": "code",
   "execution_count": 4,
   "metadata": {},
   "outputs": [],
   "source": [
    "## loop over the possible range of parameter\n",
    "res = np.zeros((40,2))\n",
    "R0s = 10**np.arange(-8,2,0.25)\n",
    "for i in range(40):\n",
    "    res[i,:] = transform(R0s[i],trade)"
   ]
  },
  {
   "cell_type": "code",
   "execution_count": 5,
   "metadata": {},
   "outputs": [
    {
     "data": {
      "text/plain": [
       "Text(0, 0.5, 'Var(ECI*) ratio')"
      ]
     },
     "execution_count": 5,
     "metadata": {},
     "output_type": "execute_result"
    },
    {
     "data": {
      "image/png": "[encoded data removed]",
      "text/plain": [
       "<Figure size 640x480 with 1 Axes>"
      ]
     },
     "metadata": {},
     "output_type": "display_data"
    }
   ],
   "source": [
    "## plot the result\n",
    "plt.plot(np.log10(R0s),res[:,1])\n",
    "plt.xlabel(\"log10(R0)\")\n",
    "plt.ylabel(\"Var(ECI*) ratio\")"
   ]
  },
  {
   "cell_type": "markdown",
   "metadata": {},
   "source": [
    "R0 = 0.115 at the peak was chosen as parameter for future analysis"
   ]
  },
  {
   "cell_type": "code",
   "execution_count": null,
   "metadata": {},
   "outputs": [],
   "source": []
  }
 ],
 "metadata": {
  "kernelspec": {
   "display_name": "Python 3 (ipykernel)",
   "language": "python",
   "name": "python3"
  },
  "language_info": {
   "codemirror_mode": {
    "name": "ipython",
    "version": 3
   },
   "file_extension": ".py",
   "mimetype": "text/x-python",
   "name": "python",
   "nbconvert_exporter": "python",
   "pygments_lexer": "ipython3",
   "version": "3.8.12"
  }
 },
 "nbformat": 4,
 "nbformat_minor": 4
}
