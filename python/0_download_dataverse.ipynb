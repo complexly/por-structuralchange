{
 "cells": [
  {
   "cell_type": "code",
   "execution_count": null,
   "id": "76af30bd-82d3-4409-af0e-1da66ba0c277",
   "metadata": {},
   "outputs": [],
   "source": [
    "from pyDataverse.api import NativeApi, DataAccessApi\n",
    "from constants import DATA_FOLDER\n",
    "import os"
   ]
  },
  {
   "cell_type": "code",
   "execution_count": null,
   "id": "cd6bb4af-9ebc-45e4-a880-42d59edb0c87",
   "metadata": {},
   "outputs": [],
   "source": [
    "# Create a new data directory if it does not exist\n",
    "if not os.path.exists(DATA_FOLDER):\n",
    "    os.makedirs(DATA_FOLDER)"
   ]
  },
  {
   "cell_type": "code",
   "execution_count": null,
   "id": "085af4bf-3e17-4e07-8e13-74e209d14278",
   "metadata": {},
   "outputs": [],
   "source": [
    "# Initialize api access\n",
    "base_url = 'https://dataverse.harvard.edu/'\n",
    "\n",
    "api = NativeApi(base_url)\n",
    "data_api = DataAccessApi(base_url)"
   ]
  },
  {
   "cell_type": "code",
   "execution_count": null,
   "id": "c701ac62-cb31-4e4b-8fbb-8f08cbc3204a",
   "metadata": {},
   "outputs": [],
   "source": [
    "# Download from harvard dataverse the sitc trade data, basic classifications, and product space\n",
    "# For robustness check, consider switching to the HS classification DOI_hs = \"doi:10.7910/DVN/T4CHWJ\" and download corresponding dataset\n",
    "DOI_sitc = \"doi:10.7910/DVN/H8SFD2\"\n",
    "DOI_ps =\"doi:10.7910/DVN/FCDZBN\"\n",
    "dataset_sitc = api.get_dataset_version(DOI_sitc,version='4.0')\n",
    "dataset_ps = api.get_dataset_version(DOI_ps,version='1.1')"
   ]
  },
  {
   "cell_type": "code",
   "execution_count": null,
   "id": "142d8dc5-cb72-482a-b7e0-62eb361600ac",
   "metadata": {},
   "outputs": [],
   "source": [
    "files_sitc = dataset_sitc.json()['data']['files']\n",
    "files_ps = dataset_ps.json()['data']['files']"
   ]
  },
  {
   "cell_type": "code",
   "execution_count": null,
   "id": "6008e2dc-2537-423b-9cab-3fda8bcfa984",
   "metadata": {},
   "outputs": [],
   "source": [
    "for file in files_sitc:\n",
    "    filename = file[\"dataFile\"][\"filename\"]\n",
    "    file_id = file[\"dataFile\"][\"id\"]\n",
    "    if filename.startswith('country_sitcproduct4digit'):\n",
    "        response = data_api.get_datafile(file_id,data_format='original')\n",
    "        with open(f'{DATA_FOLDER}/{file[\"dataFile\"][\"originalFileName\"]}', \"wb\") as f:\n",
    "            f.write(response.content)"
   ]
  },
  {
   "cell_type": "code",
   "execution_count": null,
   "id": "8eb19884-a787-4639-9ccf-a678fdfb17b7",
   "metadata": {},
   "outputs": [],
   "source": [
    "for file in files_ps:\n",
    "    filename = file[\"dataFile\"][\"filename\"]\n",
    "    file_id = file[\"dataFile\"][\"id\"]\n",
    "    if filename.startswith('sitc2_proximities'):\n",
    "        response = data_api.get_datafile(file_id,data_format='original')\n",
    "        with open(f'{DATA_FOLDER}/{file[\"dataFile\"][\"originalFileName\"]}', \"wb\") as f:\n",
    "            f.write(response.content)"
   ]
  }
 ],
 "metadata": {
  "kernelspec": {
   "display_name": "Python 3 (ipykernel)",
   "language": "python",
   "name": "python3"
  },
  "language_info": {
   "codemirror_mode": {
    "name": "ipython",
    "version": 3
   },
   "file_extension": ".py",
   "mimetype": "text/x-python",
   "name": "python",
   "nbconvert_exporter": "python",
   "pygments_lexer": "ipython3",
   "version": "3.11.9"
  }
 },
 "nbformat": 4,
 "nbformat_minor": 5
}
