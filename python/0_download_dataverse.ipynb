{
 "cells": [
  {
   "cell_type": "code",
   "execution_count": null,
   "id": "0",
   "metadata": {},
   "outputs": [],
   "source": [
    "from pyDataverse.api import NativeApi, DataAccessApi\n",
    "from constants import DATA_FOLDER\n",
    "import os"
   ]
  },
  {
   "cell_type": "code",
   "execution_count": null,
   "id": "1",
   "metadata": {},
   "outputs": [],
   "source": [
    "# Create a new data directory if it does not exist\n",
    "if not os.path.exists(DATA_FOLDER):\n",
    "    os.makedirs(DATA_FOLDER)"
   ]
  },
  {
   "cell_type": "code",
   "execution_count": null,
   "id": "2",
   "metadata": {},
   "outputs": [],
   "source": [
    "# Initialize api access\n",
    "base_url = \"https://dataverse.harvard.edu/\"\n",
    "\n",
    "api = NativeApi(base_url)\n",
    "data_api = DataAccessApi(base_url)"
   ]
  },
  {
   "cell_type": "code",
   "execution_count": null,
   "id": "3",
   "metadata": {},
   "outputs": [],
   "source": [
    "# Download from harvard dataverse the sitc trade data, basic classifications, and product space\n",
    "# For robustness check, consider switching to the HS classification DOI_hs = \"doi:10.7910/DVN/T4CHWJ\" and download corresponding dataset\n",
    "DOI_sitc = \"doi:10.7910/DVN/H8SFD2\"\n",
    "DOI_ps = \"doi:10.7910/DVN/FCDZBN\"\n",
    "dataset_sitc = api.get_dataset_version(DOI_sitc, version=\"4.0\")\n",
    "dataset_ps = api.get_dataset_version(DOI_ps, version=\"1.1\")"
   ]
  },
  {
   "cell_type": "code",
   "execution_count": null,
   "id": "4",
   "metadata": {},
   "outputs": [],
   "source": [
    "files_sitc = dataset_sitc.json()[\"data\"][\"files\"]\n",
    "files_ps = dataset_ps.json()[\"data\"][\"files\"]"
   ]
  },
  {
   "cell_type": "code",
   "execution_count": null,
   "id": "5",
   "metadata": {},
   "outputs": [],
   "source": [
    "for file in files_sitc:\n",
    "    filename = file[\"dataFile\"][\"filename\"]\n",
    "    file_id = file[\"dataFile\"][\"id\"]\n",
    "    if filename.startswith(\"country_sitcproduct4digit\"):\n",
    "        response = data_api.get_datafile(file_id, data_format=\"original\")\n",
    "        with open(f'{DATA_FOLDER}/{file[\"dataFile\"][\"originalFileName\"]}', \"wb\") as f:\n",
    "            f.write(response.content)"
   ]
  },
  {
   "cell_type": "code",
   "execution_count": null,
   "id": "6",
   "metadata": {},
   "outputs": [],
   "source": [
    "for file in files_ps:\n",
    "    filename = file[\"dataFile\"][\"filename\"]\n",
    "    file_id = file[\"dataFile\"][\"id\"]\n",
    "    if filename.startswith(\"sitc2_proximities\"):\n",
    "        response = data_api.get_datafile(file_id, data_format=\"original\")\n",
    "        with open(f'{DATA_FOLDER}/{file[\"dataFile\"][\"originalFileName\"]}', \"wb\") as f:\n",
    "            f.write(response.content)"
   ]
  }
 ],
 "metadata": {
  "kernelspec": {
   "display_name": "Python 3",
   "language": "python",
   "name": "python3"
  },
  "language_info": {
   "codemirror_mode": {
    "name": "ipython",
    "version": 3
   },
   "file_extension": ".py",
   "mimetype": "text/x-python",
   "name": "python",
   "nbconvert_exporter": "python",
   "pygments_lexer": "ipython3",
   "version": "3.10.10"
  }
 },
 "nbformat": 4,
 "nbformat_minor": 5
}
