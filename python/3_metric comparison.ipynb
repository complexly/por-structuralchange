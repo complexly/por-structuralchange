{
 "cells": [
  {
   "cell_type": "code",
   "execution_count": null,
   "metadata": {},
   "outputs": [],
   "source": [
    "import pandas as pd\n",
    "import numpy as np\n",
    "import statsmodels.formula.api as smf\n",
    "import scipy.io as sio\n",
    "from scipy.stats import entropy\n",
    "from constants import SAVE_FOLDER"
   ]
  },
  {
   "cell_type": "markdown",
   "metadata": {},
   "source": [
    "## Load region-product data"
   ]
  },
  {
   "cell_type": "code",
   "execution_count": null,
   "metadata": {},
   "outputs": [],
   "source": [
    "trade = pd.read_parquet(f'{SAVE_FOLDER}/cleaned.parquet')\n",
    "trade.head()"
   ]
  },
  {
   "cell_type": "code",
   "execution_count": null,
   "metadata": {},
   "outputs": [],
   "source": [
    "R0 = 0.115"
   ]
  },
  {
   "cell_type": "code",
   "execution_count": null,
   "metadata": {},
   "outputs": [],
   "source": [
    "# transform RCA with R0 and generate different projections\n",
    "df = trade.assign(llrca = np.log(1+trade.rca/R0)/np.log(1+1/R0))\n",
    "df['bin'] = df['export']>0\n",
    "df['avgrca_part_p'] = df.llrca*df.pivec_p\n",
    "df['avgrca_part_m'] = df.llrca*df.pivec_m\n",
    "df['avgrca_part_c'] = df.llrca*df.pivec_c\n",
    "df['avgrca_p'] = df.groupby(['year','region'])['avgrca_part_p'].transform(sum)\n",
    "df['avgrca_m'] = df.groupby(['year','region'])['avgrca_part_m'].transform(sum)\n",
    "df['avgrca_c'] = df.groupby(['year','region'])['avgrca_part_c'].transform(sum)\n",
    "df['diversity'] = df.groupby(['year','region'])['binrca'].transform(sum)\n",
    "df.avgrca_p.describe()"
   ]
  },
  {
   "cell_type": "code",
   "execution_count": null,
   "metadata": {},
   "outputs": [],
   "source": [
    "df['rct_p'] = np.where(df.avgrca_p>0,df.llrca/df.avgrca_p,0)\n",
    "df['rct_m'] = np.where(df.avgrca_m>0,df.llrca/df.avgrca_m,0)\n",
    "df['rct_c'] = np.where(df.avgrca_c>0,df.llrca/df.avgrca_c,0)\n",
    "df['rct_demean_p'] = df.rct_p-df.groupby('prod').rct_p.transform('mean')\n",
    "df['rct_demean_m'] = df.rct_m-df.groupby('prod').rct_m.transform('mean')\n",
    "df['rct_demean_c'] = df.rct_c-df.groupby('prod').rct_c.transform('mean')\n",
    "df['proj_p'] = np.where(df.avgrca_p>0, df.pci_p * df.llrca * df.pivec_p / df.avgrca_p,0)\n",
    "df['proj_m'] = np.where(df.avgrca_m>0, df.pci_m * df.llrca * df.pivec_m / df.avgrca_m,0)\n",
    "df['proj_c'] = np.where(df.avgrca_c>0, df.pci_c * df.llrca * df.pivec_c / df.avgrca_c,0)\n",
    "df['eci_part'] = np.where(df.diversity>0,df.pci * df.binrca/df.diversity,0)\n",
    "df.head()"
   ]
  },
  {
   "cell_type": "code",
   "execution_count": null,
   "metadata": {},
   "outputs": [],
   "source": [
    "cntryagg = df.groupby(['year','region'])[['avgrca_part_p','avgrca_part_m','avgrca_part_c','proj_p','proj_m','proj_c','eci_part','bin']].sum().reset_index().rename(columns={'avgrca_part_p':'avgrca_p','avgrca_part_m':'avgrca_m','avgrca_part_c':'avgrca_c','eci_part':'eci'})\n",
    "cntryagg.head()"
   ]
  },
  {
   "cell_type": "markdown",
   "metadata": {},
   "source": [
    "## calculate metrics for 2016"
   ]
  },
  {
   "cell_type": "markdown",
   "metadata": {},
   "source": [
    "### prepare mcp of 2016"
   ]
  },
  {
   "cell_type": "code",
   "execution_count": null,
   "metadata": {},
   "outputs": [],
   "source": [
    "mcpdf = trade[trade.year==2016].pivot(index='region',columns='prod',values='binrca').fillna(0)\n",
    "mcpdf.shape"
   ]
  },
  {
   "cell_type": "code",
   "execution_count": null,
   "metadata": {},
   "outputs": [],
   "source": [
    "mcp = mcpdf.values\n",
    "ubiquity = mcp.sum(axis=0)\n",
    "diversity = mcp.sum(axis=1)\n",
    "ubiquity.min(),diversity.min()\n",
    "mcp = mcp[diversity>0,:]\n",
    "mcp.shape"
   ]
  },
  {
   "cell_type": "code",
   "execution_count": null,
   "metadata": {},
   "outputs": [],
   "source": [
    "kp = mcp.sum(axis=0)\n",
    "kc = mcp.sum(axis=1)"
   ]
  },
  {
   "cell_type": "markdown",
   "metadata": {},
   "source": [
    "### fitness"
   ]
  },
  {
   "cell_type": "code",
   "execution_count": null,
   "metadata": {},
   "outputs": [],
   "source": [
    "qp = np.ones(mcp.shape[1])\n",
    "fc = np.ones(mcp.shape[0])"
   ]
  },
  {
   "cell_type": "code",
   "execution_count": null,
   "metadata": {},
   "outputs": [],
   "source": [
    "for i in range(20):\n",
    "    fc_t = mcp @ qp\n",
    "    qp_t = 1/(mcp.T @ (1/fc))\n",
    "    fc = fc_t / fc_t.mean()\n",
    "    qp = qp_t / qp_t.mean()"
   ]
  },
  {
   "cell_type": "markdown",
   "metadata": {},
   "source": [
    "### ECI"
   ]
  },
  {
   "cell_type": "code",
   "execution_count": null,
   "metadata": {},
   "outputs": [],
   "source": [
    "mr = np.diag(1/kc) @ mcp @ np.diag(1/kp) @ mcp.T\n",
    "mr.shape"
   ]
  },
  {
   "cell_type": "code",
   "execution_count": null,
   "metadata": {},
   "outputs": [],
   "source": [
    "eigvals2,eigvecs2 = np.linalg.eig(mr)\n",
    "eigvecs2 = np.real(eigvecs2)"
   ]
  },
  {
   "cell_type": "code",
   "execution_count": null,
   "metadata": {},
   "outputs": [],
   "source": [
    "eci = np.sign(np.corrcoef(kc,eigvecs2[:,1])[0,1])*eigvecs2[:,1]"
   ]
  },
  {
   "cell_type": "markdown",
   "metadata": {},
   "source": [
    "### genepy"
   ]
  },
  {
   "cell_type": "code",
   "execution_count": null,
   "metadata": {},
   "outputs": [],
   "source": [
    "kp_1 = (np.diag(1/kc) @ mcp).sum(axis=0)\n",
    "wcp = np.diag(1/kc) @ mcp @ np.diag(1/kp_1)\n",
    "ncc = wcp @ wcp.T\n",
    "np.fill_diagonal(ncc, 0)"
   ]
  },
  {
   "cell_type": "code",
   "execution_count": null,
   "metadata": {},
   "outputs": [],
   "source": [
    "eigvals,eigvecs = np.linalg.eig(ncc)\n",
    "xc1 = np.absolute(eigvecs[:,0])\n",
    "xc2 = eigvecs[:,1]\n",
    "lambda1 = eigvals[0]\n",
    "lambda2 = eigvals[1]\n",
    "genepy = np.square(lambda1*np.square(xc1)+lambda2*np.square(xc2))+2*(lambda1**2*np.square(xc1)+lambda2**2*np.square(xc2))"
   ]
  },
  {
   "cell_type": "markdown",
   "metadata": {},
   "source": [
    "### production ability"
   ]
  },
  {
   "cell_type": "code",
   "execution_count": null,
   "metadata": {},
   "outputs": [],
   "source": [
    "from girth import twopl_mml\n",
    "estimates = twopl_mml(mcp.T)"
   ]
  },
  {
   "cell_type": "code",
   "execution_count": null,
   "metadata": {},
   "outputs": [],
   "source": [
    "estimates.keys()"
   ]
  },
  {
   "cell_type": "markdown",
   "metadata": {},
   "source": [
    "## fix effects"
   ]
  },
  {
   "cell_type": "code",
   "execution_count": null,
   "metadata": {},
   "outputs": [],
   "source": [
    "fedf = trade[(trade.year==2016)&(trade['export']>0)][['region','prod','export','rca','regionsum','prodsum']].copy()\n",
    "fedf.head()"
   ]
  },
  {
   "cell_type": "code",
   "execution_count": null,
   "metadata": {},
   "outputs": [],
   "source": [
    "fedf['ycp'] = -np.log(-np.log(fedf.rca/(fedf.rca+1)))\n",
    "fedf['regionshare'] = fedf.export/fedf.regionsum\n",
    "fedf['prodshare'] = fedf.export/fedf.prodsum\n",
    "fedf.head()"
   ]
  },
  {
   "cell_type": "code",
   "execution_count": null,
   "metadata": {},
   "outputs": [],
   "source": [
    "res = smf.ols(formula='ycp ~ region+prod', data=fedf).fit()"
   ]
  },
  {
   "cell_type": "code",
   "execution_count": null,
   "metadata": {},
   "outputs": [],
   "source": [
    "fecoefdf = pd.DataFrame({'fe':res.params[1:]}).reset_index()\n",
    "fecoefdf['var'] = fecoefdf['index'].str[-4:-1]\n",
    "fecoefdf.head()"
   ]
  },
  {
   "cell_type": "code",
   "execution_count": null,
   "metadata": {},
   "outputs": [],
   "source": [
    "gamma_c = fedf[['region']].drop_duplicates().merge(fecoefdf[['var','fe']].rename(columns={'var':'region'}),how='left').fillna(0)\n",
    "gamma_c.head()"
   ]
  },
  {
   "cell_type": "markdown",
   "metadata": {},
   "source": [
    "### entropy"
   ]
  },
  {
   "cell_type": "code",
   "execution_count": null,
   "metadata": {},
   "outputs": [],
   "source": [
    "tmpdf = fedf[['region','prod','export']].copy()\n",
    "tmpdf.head()"
   ]
  },
  {
   "cell_type": "code",
   "execution_count": null,
   "metadata": {},
   "outputs": [],
   "source": [
    "tmpdf.region.nunique(),tmpdf['prod'].nunique()"
   ]
  },
  {
   "cell_type": "code",
   "execution_count": null,
   "metadata": {},
   "outputs": [],
   "source": [
    "tmpdf['hc'] = tmpdf.groupby('region')['export'].transform(entropy)\n",
    "tmpdf['hp'] = tmpdf.groupby('prod')['export'].transform(entropy)\n",
    "tmpdf['xcp'] = tmpdf.export*(np.log(233) - tmpdf.hp)\n",
    "tmpdf['ycp'] = tmpdf.export*(np.log(235) - tmpdf.hc)\n",
    "tmpdf['xcpr'] = tmpdf.xcp/tmpdf.groupby('region')['xcp'].transform(sum)\n",
    "tmpdf['ycpr'] = tmpdf.ycp/tmpdf.groupby('prod')['ycp'].transform(sum)\n",
    "tmpdf.head()"
   ]
  },
  {
   "cell_type": "code",
   "execution_count": null,
   "metadata": {},
   "outputs": [],
   "source": [
    "for i in range(25):\n",
    "    tmpdf['hc'] = tmpdf.groupby('region')['xcpr'].transform(entropy)\n",
    "    tmpdf['hp'] = tmpdf.groupby('prod')['ycpr'].transform(entropy)\n",
    "    tmpdf['xcp'] = tmpdf.export*(np.log(233) - tmpdf.hp)\n",
    "    tmpdf['ycp'] = tmpdf.export*(np.log(235) - tmpdf.hc)\n",
    "    tmpdf['xcpr'] = tmpdf.xcp/tmpdf.groupby('region')['xcp'].transform(sum)\n",
    "    tmpdf['ycpr'] = tmpdf.ycp/tmpdf.groupby('prod')['ycp'].transform(sum)"
   ]
  },
  {
   "cell_type": "code",
   "execution_count": null,
   "metadata": {},
   "outputs": [],
   "source": [
    "tmpdf.head()"
   ]
  },
  {
   "cell_type": "code",
   "execution_count": null,
   "metadata": {},
   "outputs": [],
   "source": [
    "regiondf = tmpdf[['region','hc']].drop_duplicates().sort_values('region')\n",
    "regiondf.head()"
   ]
  },
  {
   "cell_type": "markdown",
   "metadata": {},
   "source": [
    "## combine metrics into a result dataframe"
   ]
  },
  {
   "cell_type": "code",
   "execution_count": null,
   "metadata": {},
   "outputs": [],
   "source": [
    "resdf = pd.DataFrame(\n",
    "    {\n",
    "        \"fitness2016\": fc,\n",
    "        \"eci2016\": eci,\n",
    "        \"kc\": kc,\n",
    "        \"xc1\": xc1,\n",
    "        \"xc2\": xc2,\n",
    "        \"genepy\": genepy,\n",
    "        \"ability\": estimates[\"Ability\"],\n",
    "    },\n",
    "    index=mcpdf.index[diversity > 0],\n",
    ").reset_index()\n",
    "resdf.shape"
   ]
  },
  {
   "cell_type": "code",
   "execution_count": null,
   "metadata": {},
   "outputs": [],
   "source": [
    "resdf = resdf.merge(gamma_c).merge(regiondf).merge(cntryagg[(cntryagg.year==2016)&(cntryagg.bin>0)].drop(columns=['year']), how='left')\n",
    "resdf.head()"
   ]
  },
  {
   "cell_type": "code",
   "execution_count": null,
   "metadata": {},
   "outputs": [],
   "source": [
    "resdf[['kc','fitness2016','hc','ability','xc1','avgrca_p','avgrca_m','avgrca_c','bin','eci2016','eci','xc2','proj_p','proj_m','proj_c','genepy','fe']].corr()"
   ]
  },
  {
   "cell_type": "code",
   "execution_count": null,
   "metadata": {},
   "outputs": [],
   "source": [
    "resdf.columns"
   ]
  },
  {
   "cell_type": "code",
   "execution_count": null,
   "metadata": {},
   "outputs": [],
   "source": [
    "sio.savemat(f'{SAVE_FOLDER}/metric2016.mat', {'struct1':resdf.to_dict(\"list\")})"
   ]
  }
 ],
 "metadata": {
  "kernelspec": {
   "display_name": "Python 3 (ipykernel)",
   "language": "python",
   "name": "python3"
  },
  "language_info": {
   "codemirror_mode": {
    "name": "ipython",
    "version": 3
   },
   "file_extension": ".py",
   "mimetype": "text/x-python",
   "name": "python",
   "nbconvert_exporter": "python",
   "pygments_lexer": "ipython3",
   "version": "3.11.9"
  }
 },
 "nbformat": 4,
 "nbformat_minor": 4
}
