{
 "cells": [
  {
   "cell_type": "code",
   "execution_count": null,
   "metadata": {},
   "outputs": [],
   "source": [
    "import pandas as pd\n",
    "import numpy as np\n",
    "import scipy.io as sio\n",
    "from constants import DATA_FOLDER, SAVE_FOLDER"
   ]
  },
  {
   "cell_type": "markdown",
   "metadata": {},
   "source": [
    "## Load region-product export data"
   ]
  },
  {
   "cell_type": "code",
   "execution_count": null,
   "metadata": {},
   "outputs": [],
   "source": [
    "# Load trade data, keep the 771 products as in orginal product space paper by loading that proxmity\n",
    "trade0 = pd.read_stata(\n",
    "    f\"{DATA_FOLDER}/country_sitcproduct4digit_year.dta\",\n",
    "    columns=[\"year\", \"location_code\", \"sitc_product_code\", \"export_value\"],\n",
    ").rename(\n",
    "    columns={\n",
    "        \"location_code\": \"region\",\n",
    "        \"sitc_product_code\": \"prod\",\n",
    "        \"export_value\": \"export\",\n",
    "    }\n",
    ")\n",
    "\n",
    "# Unique locations\n",
    "regions = sorted(trade0[\"region\"].unique().tolist())\n",
    "\n",
    "# Unique products\n",
    "proxdf = pd.read_csv(f\"{DATA_FOLDER}/sitc2_proximities.csv\", dtype=\"str\")\n",
    "proxdf[\"proximity\"] = proxdf[\"proximity\"].astype(float)\n",
    "prods = sorted(\n",
    "    list(set(proxdf.commoditycode_1.tolist() + proxdf.commoditycode_2.tolist()))\n",
    ")\n",
    "\n",
    "trade0.head()"
   ]
  },
  {
   "cell_type": "code",
   "execution_count": null,
   "metadata": {},
   "outputs": [],
   "source": [
    "# Make trade data a cartesian product of year, region, products\n",
    "years = list(range(1962,2019))\n",
    "index = pd.MultiIndex.from_product([years,regions,prods],names=['year','region','prod'])\n",
    "trade = pd.DataFrame(index = index).reset_index().merge(trade0,how='left').fillna(0)\n",
    "trade.head()"
   ]
  },
  {
   "cell_type": "code",
   "execution_count": null,
   "metadata": {},
   "outputs": [],
   "source": [
    "# Aggregate to 3-digit SITC level\n",
    "trade['prod'] = trade['prod'].str[:3]\n",
    "trade = trade.groupby(['year','region','prod'])['export'].sum().reset_index()\n",
    "trade.head()"
   ]
  },
  {
   "cell_type": "code",
   "execution_count": null,
   "metadata": {},
   "outputs": [],
   "source": [
    "# Calculate LCA and >=1 binarized version\n",
    "trade['regionsum'] = trade.groupby(['year','region'])['export'].transform('sum')\n",
    "trade['prodsum'] = trade.groupby(['year','prod'])['export'].transform('sum')\n",
    "trade['yearsum'] = trade.groupby(['year'])['export'].transform('sum')\n",
    "trade['rca'] = trade['export']*trade['yearsum']/trade['regionsum']/trade['prodsum']\n",
    "trade['rca'] = np.where(trade['rca'].isna(),0,trade['rca'])\n",
    "trade['rca'] = np.where(np.isinf(trade['rca']),0,trade['rca'])\n",
    "trade['binrca'] = np.where(trade.rca>1,1,0)"
   ]
  },
  {
   "cell_type": "markdown",
   "metadata": {},
   "source": [
    "## Get proximity matrix and calculate eigenvectors"
   ]
  },
  {
   "cell_type": "code",
   "execution_count": null,
   "metadata": {},
   "outputs": [],
   "source": [
    "# Choose initial year to derive proximity (at 3-digit level)\n",
    "proxyear = 1962\n",
    "mcpdf = trade[trade.year==proxyear].pivot(index='region',columns='prod',values='binrca').fillna(0)\n",
    "mcpmat = mcpdf.to_numpy()\n",
    "rcamat = trade[trade.year==proxyear].pivot(index='region',columns='prod',values='rca').fillna(0).to_numpy()\n",
    "mcpmat.shape, rcamat.shape"
   ]
  },
  {
   "cell_type": "code",
   "execution_count": null,
   "metadata": {},
   "outputs": [],
   "source": [
    "# Filter out countries without a product in this year (Mcp matrix)\n",
    "ubiquity = mcpmat.sum(axis=0)\n",
    "diversity = mcpmat.sum(axis=1)\n",
    "mcpmat = mcpmat[diversity>0,:]\n",
    "mcpmat.shape"
   ]
  },
  {
   "cell_type": "code",
   "execution_count": null,
   "metadata": {},
   "outputs": [],
   "source": [
    "# Filter out countries without a product in this year (RCA matrix)\n",
    "ubiquity = rcamat.sum(axis=0)\n",
    "diversity = rcamat.sum(axis=1)\n",
    "rcamat = rcamat[diversity>0,:]\n",
    "rcamat.shape"
   ]
  },
  {
   "cell_type": "code",
   "execution_count": null,
   "metadata": {},
   "outputs": [],
   "source": [
    "# Calculate normalized proximity Phi_M, Phi_P, Phi_C\n",
    "ubiquity = mcpmat.sum(axis=0)\n",
    "diversity = mcpmat.sum(axis=1)\n",
    "Phi_M = mcpmat.T @ mcpmat\n",
    "Phi_M = Phi_M / ubiquity[np.newaxis, :]\n",
    "Phi_M = np.minimum(Phi_M, Phi_M.T)\n",
    "np.fill_diagonal(Phi_M, 0)\n",
    "den = Phi_M.sum(axis=0)\n",
    "Phi_M_normalized = np.diag(1/den) @ Phi_M\n",
    "Phi_P_normalized = np.diag(1/ubiquity) @ mcpmat.T @ np.diag(1/diversity) @ mcpmat\n",
    "Phi_C_normalized = (1 + np.corrcoef(rcamat.T)) / 2\n",
    "den = Phi_C_normalized.sum(axis=0)\n",
    "Phi_C_normalized = np.diag(1/den) @ Phi_C_normalized"
   ]
  },
  {
   "cell_type": "code",
   "execution_count": null,
   "metadata": {},
   "outputs": [],
   "source": [
    "# Calculate eigenvectors of different matrices\n",
    "eigvals_M,eigvecs_M = np.linalg.eig(Phi_M_normalized)\n",
    "eigvals_P,eigvecs_P = np.linalg.eig(Phi_P_normalized)\n",
    "eigvals_C,eigvecs_C = np.linalg.eig(Phi_C_normalized)\n",
    "\n",
    "eigvals_M_left,eigvecs_M_left = np.linalg.eig(Phi_M_normalized.T)\n",
    "eigvals_P_left,eigvecs_P_left = np.linalg.eig(Phi_P_normalized.T)\n",
    "eigvals_C_left,eigvecs_C_left = np.linalg.eig(Phi_C_normalized.T)\n",
    "\n",
    "# Remove tiny imaginary parts\n",
    "eigvals_M = np.real(eigvals_M)\n",
    "eigvecs_M = np.real(eigvecs_M)\n",
    "eigvecs_M_left = np.real(eigvecs_M_left)\n",
    "\n",
    "eigvals_P = np.real(eigvals_P)\n",
    "eigvecs_P = np.real(eigvecs_P)\n",
    "eigvecs_P_left = np.real(eigvecs_P_left)\n",
    "\n",
    "eigvals_C = np.real(eigvals_C)\n",
    "eigvecs_C = np.real(eigvecs_C)\n",
    "eigvecs_C_left = np.real(eigvecs_C_left)"
   ]
  },
  {
   "cell_type": "code",
   "execution_count": null,
   "metadata": {},
   "outputs": [],
   "source": [
    "# Get pi vector (1st left eigenvector) and normalize\n",
    "pivec_M = eigvecs_M_left[:,0]\n",
    "pivec_M = pivec_M/pivec_M.sum()\n",
    "pivec_P = eigvecs_P_left[:,0]\n",
    "pivec_P = pivec_P/pivec_P.sum()\n",
    "pivec_C = eigvecs_C_left[:,0]\n",
    "pivec_C = pivec_C/pivec_C.sum()"
   ]
  },
  {
   "cell_type": "code",
   "execution_count": null,
   "metadata": {},
   "outputs": [],
   "source": [
    "# Adjust signs of 1st eigenvectors (all 1s or -1s) to be positive\n",
    "eigvecs_M[:,0] = eigvecs_M[:,0] * np.sign(eigvecs_M[0,0])\n",
    "eigvecs_P[:,0] = eigvecs_P[:,0] * np.sign(eigvecs_P[0,0])\n",
    "eigvecs_C[:,0] = eigvecs_C[:,0] * np.sign(eigvecs_C[0,0])\n",
    "\n",
    "# Adjust signs of 2nd eigenvectors to align with diversity & pci\n",
    "kp = eigvecs_P[:,1]\n",
    "kc = mcpmat @ kp\n",
    "eigvecs_P[:,1] = np.sign(np.real(np.corrcoef(diversity, kc)[0, 1]))*eigvecs_P[:,1]\n",
    "eigvecs_M[:,1] = np.sign(np.real(np.corrcoef(eigvecs_M[:,1], eigvecs_P[:,1])[0, 1]))*eigvecs_M[:,1]\n",
    "eigvecs_P_left[:,1] = np.sign(eigvecs_P_left[:,1].dot(eigvecs_P[:,1]))*eigvecs_P_left[:,1]\n",
    "eigvecs_M_left[:,1] = np.sign(np.real(np.corrcoef(eigvecs_M_left[:,1], eigvecs_P_left[:,1])[0, 1]))*eigvecs_M_left[:,1]\n",
    "eigvecs_C[:,1] = np.sign(np.real(np.corrcoef(eigvecs_C[:,1], eigvecs_P[:,1])[0, 1]))*eigvecs_C[:,1]\n",
    "eigvecs_C_left[:,1] = np.sign(np.real(np.corrcoef(eigvecs_C_left[:,1], eigvecs_P_left[:,1])[0, 1]))*eigvecs_C_left[:,1]"
   ]
  },
  {
   "cell_type": "code",
   "execution_count": null,
   "metadata": {},
   "outputs": [],
   "source": [
    "# Normalize the vectors as discussed in appendix\n",
    "eigvecs_M_norm = eigvecs_M @ np.diag(1/np.sqrt(np.diag(eigvecs_M.T @ np.diag(pivec_M) @ eigvecs_M)))\n",
    "eigvecs_M_left_norm = eigvecs_M_left @ np.diag(1/np.sqrt(np.diag(eigvecs_M_left.T @ np.diag(1/pivec_M) @ eigvecs_M_left)))\n",
    "eigvecs_P_norm = eigvecs_P @ np.diag(1/np.sqrt(np.diag(eigvecs_P.T @ np.diag(pivec_P) @ eigvecs_P)))\n",
    "eigvecs_P_left_norm = eigvecs_P_left @ np.diag(1/np.sqrt(np.diag(eigvecs_P_left.T @ np.diag(1/pivec_P) @ eigvecs_P_left)))\n",
    "eigvecs_C_norm = eigvecs_C @ np.diag(1/np.sqrt(np.diag(eigvecs_C.T @ np.diag(pivec_C) @ eigvecs_C)))\n",
    "eigvecs_C_left_norm = eigvecs_C_left @ np.diag(1/np.sqrt(np.diag(eigvecs_C_left.T @ np.diag(1/pivec_C) @ eigvecs_C_left)))"
   ]
  },
  {
   "cell_type": "markdown",
   "metadata": {},
   "source": [
    "## Merge export data for analysis"
   ]
  },
  {
   "cell_type": "code",
   "execution_count": null,
   "metadata": {},
   "outputs": [],
   "source": [
    "trade = trade.merge(pd.DataFrame(pivec_P,index=mcpdf.columns).reset_index().rename(columns={0:'pivec_p'}))\n",
    "trade = trade.merge(pd.DataFrame(pivec_M,index=mcpdf.columns).reset_index().rename(columns={0:'pivec_m'}))\n",
    "trade = trade.merge(pd.DataFrame(pivec_C,index=mcpdf.columns).reset_index().rename(columns={0:'pivec_c'}))\n",
    "trade.head()"
   ]
  },
  {
   "cell_type": "code",
   "execution_count": null,
   "metadata": {},
   "outputs": [],
   "source": [
    "trade = trade.merge(pd.DataFrame(kp,index=mcpdf.columns).reset_index().rename(columns={0:'pci'}))\n",
    "trade = trade.merge(pd.DataFrame(eigvecs_M_norm[:,1],index=mcpdf.columns).reset_index().rename(columns={0:'pci_m'}))\n",
    "trade = trade.merge(pd.DataFrame(eigvecs_P_norm[:,1],index=mcpdf.columns).reset_index().rename(columns={0:'pci_p'}))\n",
    "trade = trade.merge(pd.DataFrame(eigvecs_C_norm[:,1],index=mcpdf.columns).reset_index().rename(columns={0:'pci_c'}))\n",
    "trade = trade.merge(pd.DataFrame(eigvecs_M_left_norm[:,1],index=mcpdf.columns).reset_index().rename(columns={0:'pcil_m'}))\n",
    "trade = trade.merge(pd.DataFrame(eigvecs_P_left_norm[:,1],index=mcpdf.columns).reset_index().rename(columns={0:'pcil_p'}))\n",
    "trade = trade.merge(pd.DataFrame(eigvecs_C_left_norm[:,1],index=mcpdf.columns).reset_index().rename(columns={0:'pcil_c'}))\n",
    "trade.head()"
   ]
  },
  {
   "cell_type": "code",
   "execution_count": null,
   "metadata": {},
   "outputs": [],
   "source": [
    "trade.to_parquet(f'{SAVE_FOLDER}/cleaned.parquet',index=False,compression='gzip')"
   ]
  },
  {
   "cell_type": "code",
   "execution_count": null,
   "metadata": {},
   "outputs": [],
   "source": [
    "# Sort vectors by eigenvalue (largest to smallest)\n",
    "eig_index_M = (-eigvals_M).argsort()\n",
    "eig_index_P = (-eigvals_P).argsort()\n",
    "eig_index_C = (-eigvals_C).argsort()\n",
    "eigvals_M  = eigvals_M[eig_index_M]\n",
    "eigvals_P  = eigvals_P[eig_index_P]\n",
    "eigvals_C  = eigvals_C[eig_index_C]\n",
    "eigvecs_P_norm = eigvecs_P_norm[:,eig_index_P]\n",
    "eigvecs_M_norm = eigvecs_M_norm[:,eig_index_M]\n",
    "eigvecs_C_norm = eigvecs_C_norm[:,eig_index_C]\n",
    "eigvecs_P_left_norm = eigvecs_P_left_norm[:,eig_index_P]\n",
    "eigvecs_M_left_norm = eigvecs_M_left_norm[:,eig_index_M]\n",
    "eigvecs_C_left_norm = eigvecs_C_left_norm[:,eig_index_C]\n",
    "eigvecs_P = eigvecs_P[:,eig_index_P]\n",
    "eigvecs_M = eigvecs_M[:,eig_index_M]\n",
    "eigvecs_C = eigvecs_C[:,eig_index_C]\n",
    "eigvecs_P_left = eigvecs_P_left[:,eig_index_P]\n",
    "eigvecs_M_left = eigvecs_M_left[:,eig_index_M]\n",
    "eigvecs_C_left = eigvecs_C_left[:,eig_index_C]\n",
    "# np.save(f'{SAVE_FOLDER}/eigenvec_norm_p.npy',eigvecs_P_norm)\n",
    "# np.save(f'{SAVE_FOLDER}/eigenvec_norm_m.npy',eigvecs_M_norm)\n",
    "# np.save(f'{SAVE_FOLDER}/eigenvec_norm_c.npy',eigvecs_C_norm)\n",
    "# np.save(f'{SAVE_FOLDER}/eigenvec_l_norm_p.npy',eigvecs_P_left_norm)\n",
    "# np.save(f'{SAVE_FOLDER}/eigenvec_l_norm_m.npy',eigvecs_M_left_norm)\n",
    "# np.save(f'{SAVE_FOLDER}/eigenvec_l_norm_c.npy',eigvecs_C_left_norm)\n",
    "# np.save(f'{SAVE_FOLDER}/eigenvec_p.npy',eigvecs_P)\n",
    "# np.save(f'{SAVE_FOLDER}/eigenvec_m.npy',eigvecs_M)\n",
    "# np.save(f'{SAVE_FOLDER}/eigenvec_c.npy',eigvecs_C)\n",
    "# np.save(f'{SAVE_FOLDER}/eigenvec_l_p.npy',eigvecs_P_left)\n",
    "# np.save(f'{SAVE_FOLDER}/eigenvec_l_m.npy',eigvecs_M_left)\n",
    "# np.save(f'{SAVE_FOLDER}/eigenvec_l_c.npy',eigvecs_C_left)"
   ]
  },
  {
   "cell_type": "code",
   "execution_count": null,
   "metadata": {},
   "outputs": [],
   "source": [
    "# Save RCAs to study distribution\n",
    "sio.savemat(f'{SAVE_FOLDER}/rcavector.mat',{'rca':trade.rca.values})\n",
    "\n",
    "# Save mincop proximity matrix\n",
    "sio.savemat(f'{SAVE_FOLDER}/mincop_proximity.mat',{'mincop_proximity':Phi_M})"
   ]
  },
  {
   "cell_type": "code",
   "execution_count": null,
   "metadata": {},
   "outputs": [],
   "source": [
    "# Compute Pearson correlations between eigenvectors\n",
    "correlations_PM = []\n",
    "correlations_PC = []\n",
    "n_evecs = len(eigvecs_P_norm)\n",
    "for i in range(n_evecs):\n",
    "    rho_PM = np.corrcoef(eigvecs_P_norm[:,i], eigvecs_M_norm[:,i], rowvar=False)[0,1]\n",
    "    rho_PC = np.corrcoef(eigvecs_P_norm[:,i], eigvecs_C_norm[:,i], rowvar=False)[0,1]\n",
    "    correlations_PM.append(rho_PM)\n",
    "    correlations_PC.append(rho_PC)\n",
    "    \n",
    "# corrcoef gives odd results for first eigenvectors because of numerical precision issues, but the vectors are the same (np.isclose(eigvecs_P_norm[:,0], eigvecs_C_norm[:,0]).all() is True). Set correlations to 1 by hand.\n",
    "correlations_PM[0] = 1\n",
    "correlations_PC[0] = 1"
   ]
  },
  {
   "cell_type": "code",
   "execution_count": null,
   "metadata": {},
   "outputs": [],
   "source": [
    "# Save eigenvalues and eigenvectors\n",
    "sio.savemat(f'{SAVE_FOLDER}/eigenspectrum.mat',{'evs_Phi_M':eigvals_M,'evs_Phi_P':eigvals_P,'evs_Phi_C':eigvals_C,'rho_PM':correlations_PM,'rho_PC':correlations_PC})"
   ]
  }
 ],
 "metadata": {
  "kernelspec": {
   "display_name": "Python 3 (ipykernel)",
   "language": "python",
   "name": "python3"
  },
  "language_info": {
   "codemirror_mode": {
    "name": "ipython",
    "version": 3
   },
   "file_extension": ".py",
   "mimetype": "text/x-python",
   "name": "python",
   "nbconvert_exporter": "python",
   "pygments_lexer": "ipython3",
   "version": "3.11.9"
  }
 },
 "nbformat": 4,
 "nbformat_minor": 4
}
