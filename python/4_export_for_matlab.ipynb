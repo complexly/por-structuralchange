{
 "cells": [
  {
   "cell_type": "code",
   "execution_count": null,
   "metadata": {},
   "outputs": [],
   "source": [
    "import pandas as pd\n",
    "import numpy as np\n",
    "import matplotlib.pyplot as plt\n",
    "import scipy.io as sio\n",
    "from concentrationMetrics import Index\n",
    "from constants import DATA_FOLDER, SAVE_FOLDER, OUT_FOLDER"
   ]
  },
  {
   "cell_type": "code",
   "execution_count": null,
   "metadata": {},
   "outputs": [],
   "source": [
    "gdppc = (\n",
    "    pd.read_csv(\n",
    "        f\"{DATA_FOLDER}/API_NY.GDP.PCAP.KD_DS2_en_csv_v2_2252313.csv\", skiprows=4\n",
    "    )\n",
    "    .drop(columns=[\"Country Name\", \"Indicator Name\", \"Indicator Code\", \"Unnamed: 65\"])\n",
    "    .melt(id_vars=\"Country Code\", var_name=\"year\", value_name=\"gdppc\")\n",
    "    .dropna()\n",
    "    .rename(columns={\"Country Code\": \"region\"})\n",
    ")\n",
    "gdppc[\"year\"] = gdppc.year.astype(int)\n",
    "gdppc.head()"
   ]
  },
  {
   "cell_type": "markdown",
   "metadata": {},
   "source": [
    "## Load region-product export data"
   ]
  },
  {
   "cell_type": "code",
   "execution_count": null,
   "metadata": {},
   "outputs": [],
   "source": [
    "trade = pd.read_parquet(f\"{SAVE_FOLDER}/cleaned.parquet\")\n",
    "trade.head()"
   ]
  },
  {
   "cell_type": "markdown",
   "metadata": {},
   "source": [
    "## Transform and calculate metrics"
   ]
  },
  {
   "cell_type": "code",
   "execution_count": null,
   "metadata": {},
   "outputs": [],
   "source": [
    "R0 = 0.115"
   ]
  },
  {
   "cell_type": "code",
   "execution_count": null,
   "metadata": {},
   "outputs": [],
   "source": [
    "## transform with R0 and project\n",
    "df = trade.assign(llrca=np.log(1 + trade.rca / R0) / np.log(1 + 1 / R0))\n",
    "df[\"bin\"] = df.export > 0\n",
    "df[\"avgrca_part_p\"] = df.llrca * df.pivec_p\n",
    "df[\"avgrca_part_m\"] = df.llrca * df.pivec_m\n",
    "df[\"avgrca_part_c\"] = df.llrca * df.pivec_c\n",
    "df[\"avgrca_p\"] = df.groupby([\"year\", \"region\"])[\"avgrca_part_p\"].transform(sum)\n",
    "df[\"avgrca_m\"] = df.groupby([\"year\", \"region\"])[\"avgrca_part_m\"].transform(sum)\n",
    "df[\"avgrca_c\"] = df.groupby([\"year\", \"region\"])[\"avgrca_part_c\"].transform(sum)\n",
    "df[\"diversity\"] = df.groupby([\"year\", \"region\"])[\"binrca\"].transform(sum)\n",
    "df.avgrca_p.describe()"
   ]
  },
  {
   "cell_type": "code",
   "execution_count": null,
   "metadata": {},
   "outputs": [],
   "source": [
    "df[\"rct_p\"] = np.where(df.avgrca_p > 0, df.llrca / df.avgrca_p, 0)\n",
    "df[\"rct_m\"] = np.where(df.avgrca_m > 0, df.llrca / df.avgrca_m, 0)\n",
    "df[\"rct_c\"] = np.where(df.avgrca_c > 0, df.llrca / df.avgrca_c, 0)\n",
    "df[\"rct_demean_p\"] = df.rct_p - df.groupby(\"prod\").rct_p.transform(\"mean\")\n",
    "df[\"rct_demean_m\"] = df.rct_m - df.groupby(\"prod\").rct_m.transform(\"mean\")\n",
    "df[\"rct_demean_c\"] = df.rct_c - df.groupby(\"prod\").rct_c.transform(\"mean\")\n",
    "df[\"proj_p\"] = np.where(\n",
    "    df.avgrca_p > 0, df.pci_p * df.llrca * df.pivec_p / df.avgrca_p, 0\n",
    ")\n",
    "df[\"proj_m\"] = np.where(\n",
    "    df.avgrca_m > 0, df.pci_m * df.llrca * df.pivec_m / df.avgrca_m, 0\n",
    ")\n",
    "df[\"proj_c\"] = np.where(\n",
    "    df.avgrca_c > 0, df.pci_c * df.llrca * df.pivec_c / df.avgrca_c, 0\n",
    ")\n",
    "df[\"eci_part\"] = np.where(df.diversity > 0, df.pci * df.binrca / df.diversity, 0)\n",
    "df.head()"
   ]
  },
  {
   "cell_type": "code",
   "execution_count": null,
   "metadata": {},
   "outputs": [],
   "source": [
    "cntryagg = (\n",
    "    df.groupby([\"year\", \"region\"])[\n",
    "        [\n",
    "            \"avgrca_part_p\",\n",
    "            \"avgrca_part_m\",\n",
    "            \"avgrca_part_c\",\n",
    "            \"proj_p\",\n",
    "            \"proj_m\",\n",
    "            \"proj_c\",\n",
    "            \"eci_part\",\n",
    "            \"bin\",\n",
    "        ]\n",
    "    ]\n",
    "    .sum()\n",
    "    .reset_index()\n",
    "    .rename(\n",
    "        columns={\n",
    "            \"avgrca_part_p\": \"avgrca_p\",\n",
    "            \"avgrca_part_m\": \"avgrca_m\",\n",
    "            \"avgrca_part_c\": \"avgrca_c\",\n",
    "            \"eci_part\": \"eci\",\n",
    "        }\n",
    "    )\n",
    ")\n",
    "cntryagg = cntryagg.merge(gdppc, how=\"left\")\n",
    "cntryagg.head()"
   ]
  },
  {
   "cell_type": "code",
   "execution_count": null,
   "metadata": {},
   "outputs": [],
   "source": [
    "cntryagg.year.nunique(), cntryagg.region.nunique()"
   ]
  },
  {
   "cell_type": "markdown",
   "metadata": {},
   "source": [
    "## ECI vs. ECI* and PCI vs. PCI* across proximity matrices"
   ]
  },
  {
   "cell_type": "code",
   "execution_count": null,
   "metadata": {},
   "outputs": [],
   "source": [
    "fig, ax = plt.subplots(figsize=(4, 4))\n",
    "plt.axvline(x=0, color=\"grey\", linestyle=\"--\", zorder=0)\n",
    "plt.axhline(y=0, color=\"grey\", linestyle=\"--\", zorder=0)\n",
    "ax.scatter(cntryagg.eci, cntryagg.proj_p, alpha=0.05, zorder=5)\n",
    "ax.tick_params(axis=\"y\", direction=\"in\")\n",
    "ax.tick_params(axis=\"x\", direction=\"in\")\n",
    "# ax.set_xlim([-1,1])\n",
    "# ax.set_ylim([-1,1])\n",
    "ax.set_aspect(0.065)\n",
    "plt.xlabel(\"ECI\")\n",
    "plt.ylabel(\"ECI*\")\n",
    "plt.savefig(f\"{OUT_FOLDER}/fig4.pdf\", bbox_inches=\"tight\", pad_inches=0.05)"
   ]
  },
  {
   "cell_type": "code",
   "execution_count": null,
   "metadata": {},
   "outputs": [],
   "source": [
    "pcidf = (\n",
    "    trade.groupby([\"prod\"])[[\"pci\", \"pci_p\", \"pci_m\", \"pci_c\"]].median().reset_index()\n",
    ")\n",
    "pcidf.head()"
   ]
  },
  {
   "cell_type": "code",
   "execution_count": null,
   "metadata": {},
   "outputs": [],
   "source": [
    "from matplotlib.ticker import FormatStrFormatter\n",
    "from scipy.stats import spearmanr\n",
    "\n",
    "fig, ax = plt.subplots(3, 2, figsize=(10, 15))\n",
    "\n",
    "ax[0, 0].axvline(x=0, color=\"grey\", linestyle=\"--\", zorder=0)\n",
    "ax[0, 0].axhline(y=0, color=\"grey\", linestyle=\"--\", zorder=0)\n",
    "ax[0, 0].tick_params(axis=\"y\", direction=\"in\")\n",
    "ax[0, 0].tick_params(axis=\"x\", direction=\"in\")\n",
    "ax[0, 0].scatter(pcidf.pci, pcidf.pci_p, alpha=0.2, zorder=5)\n",
    "ax[0, 0].set_xlabel(\"PCI\")\n",
    "ax[0, 0].set_ylabel(\"PCI*\")\n",
    "ax[0, 0].text(\n",
    "    -0.1,\n",
    "    1.4,\n",
    "    f\"Pearson:{np.corrcoef(pcidf.pci,pcidf.pci)[0,1]:.3f}\\nSpearman:{spearmanr(pcidf.pci,pcidf.pci)[0]:.3f}\",\n",
    ")\n",
    "ax[0, 0].set_title(r\"(a) $\\Phi^P$\")\n",
    "\n",
    "ax[0, 1].axvline(x=0, color=\"grey\", linestyle=\"--\", zorder=0)\n",
    "ax[0, 1].axhline(y=0, color=\"grey\", linestyle=\"--\", zorder=0)\n",
    "ax[0, 1].tick_params(axis=\"y\", direction=\"in\")\n",
    "ax[0, 1].tick_params(axis=\"x\", direction=\"in\")\n",
    "ax[0, 1].scatter(cntryagg.eci, cntryagg.proj_p, alpha=0.05, zorder=5)\n",
    "ax[0, 1].set_xlabel(\"ECI\")\n",
    "ax[0, 1].set_ylabel(\"ECI*\")\n",
    "ax[0, 1].text(\n",
    "    -0.1,\n",
    "    1.4,\n",
    "    f\"Pearson:{np.corrcoef(cntryagg.eci,cntryagg.proj_p)[0,1]:.3f}\\nSpearman:{spearmanr(cntryagg.eci,cntryagg.proj_p)[0]:.3f}\",\n",
    ")\n",
    "ax[0, 1].set_title(r\"(b) $\\Phi^P$\")\n",
    "\n",
    "ax[1, 0].axvline(x=0, color=\"grey\", linestyle=\"--\", zorder=0)\n",
    "ax[1, 0].axhline(y=0, color=\"grey\", linestyle=\"--\", zorder=0)\n",
    "ax[1, 0].tick_params(axis=\"y\", direction=\"in\")\n",
    "ax[1, 0].tick_params(axis=\"x\", direction=\"in\")\n",
    "ax[1, 0].scatter(pcidf.pci, pcidf.pci_m, alpha=0.2, zorder=5)\n",
    "ax[1, 0].yaxis.set_major_formatter(FormatStrFormatter(\"%.1f\"))\n",
    "ax[1, 0].set_xlabel(\"PCI\")\n",
    "ax[1, 0].set_ylabel(\"PCI*\")\n",
    "ax[1, 0].text(\n",
    "    -0.1,\n",
    "    0.8,\n",
    "    f\"Pearson:{np.corrcoef(pcidf.pci_m,pcidf.pci)[0,1]:.3f}\\nSpearman:{spearmanr(pcidf.pci_m,pcidf.pci)[0]:.3f}\",\n",
    ")\n",
    "ax[1, 0].set_title(r\"(c) $\\Phi^M$\")\n",
    "\n",
    "\n",
    "ax[1, 1].axvline(x=0, color=\"grey\", linestyle=\"--\", zorder=0)\n",
    "ax[1, 1].axhline(y=0, color=\"grey\", linestyle=\"--\", zorder=0)\n",
    "ax[1, 1].tick_params(axis=\"y\", direction=\"in\")\n",
    "ax[1, 1].tick_params(axis=\"x\", direction=\"in\")\n",
    "ax[1, 1].scatter(cntryagg.eci, cntryagg.proj_m, alpha=0.05, zorder=5)\n",
    "ax[1, 1].yaxis.set_major_formatter(FormatStrFormatter(\"%.1f\"))\n",
    "ax[1, 1].set_xlabel(\"ECI\")\n",
    "ax[1, 1].set_ylabel(\"ECI*\")\n",
    "ax[1, 1].text(\n",
    "    -0.1,\n",
    "    0.8,\n",
    "    f\"Pearson:{np.corrcoef(cntryagg.eci,cntryagg.proj_m)[0,1]:.3f}\\nSpearman:{spearmanr(cntryagg.eci,cntryagg.proj_m)[0]:.3f}\",\n",
    ")\n",
    "ax[1, 1].set_title(r\"(d) $\\Phi^M$\")\n",
    "\n",
    "ax[2, 0].axvline(x=0, color=\"grey\", linestyle=\"--\", zorder=0)\n",
    "ax[2, 0].axhline(y=0, color=\"grey\", linestyle=\"--\", zorder=0)\n",
    "ax[2, 0].tick_params(axis=\"y\", direction=\"in\")\n",
    "ax[2, 0].tick_params(axis=\"x\", direction=\"in\")\n",
    "ax[2, 0].scatter(pcidf.pci, pcidf.pci_c, alpha=0.2, zorder=5)\n",
    "ax[2, 0].set_xlabel(\"PCI\")\n",
    "ax[2, 0].set_ylabel(\"PCI*\")\n",
    "ax[2, 0].text(\n",
    "    -0.1,\n",
    "    1.5,\n",
    "    f\"Pearson:{np.corrcoef(pcidf.pci_c,pcidf.pci)[0,1]:.3f}\\nSpearman:{spearmanr(pcidf.pci_c,pcidf.pci)[0]:.3f}\",\n",
    ")\n",
    "ax[2, 0].set_title(r\"(e) $\\Phi^C$\")\n",
    "\n",
    "\n",
    "ax[2, 1].axvline(x=0, color=\"grey\", linestyle=\"--\", zorder=0)\n",
    "ax[2, 1].axhline(y=0, color=\"grey\", linestyle=\"--\", zorder=0)\n",
    "ax[2, 1].tick_params(axis=\"y\", direction=\"in\")\n",
    "ax[2, 1].tick_params(axis=\"x\", direction=\"in\")\n",
    "ax[2, 1].scatter(cntryagg.eci, cntryagg.proj_c, alpha=0.05, zorder=5)\n",
    "ax[2, 1].set_xlabel(\"ECI\")\n",
    "ax[2, 1].set_ylabel(\"ECI*\")\n",
    "ax[2, 1].text(\n",
    "    -0.1,\n",
    "    1.25,\n",
    "    f\"Pearson:{np.corrcoef(cntryagg.eci,cntryagg.proj_c)[0,1]:.3f}\\nSpearman:{spearmanr(cntryagg.eci,cntryagg.proj_c)[0]:.3f}\",\n",
    ")\n",
    "ax[2, 1].set_title(r\"(f) $\\Phi^C$\")\n",
    "\n",
    "plt.savefig(f\"{OUT_FOLDER}/figs1.pdf\", bbox_inches=\"tight\", pad_inches=0.05)"
   ]
  },
  {
   "cell_type": "markdown",
   "metadata": {},
   "source": [
    "## Export datasets to analyze in matlab"
   ]
  },
  {
   "cell_type": "code",
   "execution_count": null,
   "metadata": {},
   "outputs": [],
   "source": [
    "cntryagg2 = (\n",
    "    cntryagg[cntryagg.bin > 0]\n",
    "    .assign(ry=cntryagg.region + cntryagg.year.astype(str))\n",
    "    .sort_values(\"ry\")\n",
    "    .reset_index(drop=True)\n",
    ")\n",
    "cntryagg2.shape"
   ]
  },
  {
   "cell_type": "code",
   "execution_count": null,
   "metadata": {},
   "outputs": [],
   "source": [
    "df2 = df.assign(ry=df.region + df.year.astype(str))\n",
    "df2[\"bincounts\"] = df2.groupby(\"ry\")[\"bin\"].transform(sum)\n",
    "df2 = df2[df2.bincounts > 0]\n",
    "df2.columns"
   ]
  },
  {
   "cell_type": "code",
   "execution_count": null,
   "metadata": {},
   "outputs": [],
   "source": [
    "Rcpt = df2.pivot(index=\"prod\", columns=\"ry\", values=\"llrca\").fillna(0)  # .values\n",
    "Rcpt.shape"
   ]
  },
  {
   "cell_type": "code",
   "execution_count": null,
   "metadata": {},
   "outputs": [],
   "source": [
    "sio.savemat(f\"{SAVE_FOLDER}/rcptcolumns.mat\", {\"cntryyear\": Rcpt.columns.values})"
   ]
  },
  {
   "cell_type": "code",
   "execution_count": null,
   "metadata": {},
   "outputs": [],
   "source": [
    "zct = df2.pivot(index=\"prod\", columns=\"ry\", values=\"avgrca_p\").fillna(0).values[0, :]\n",
    "zct.shape"
   ]
  },
  {
   "cell_type": "code",
   "execution_count": null,
   "metadata": {},
   "outputs": [],
   "source": [
    "ecistar = df2.pivot(index=\"prod\", columns=\"ry\", values=\"proj_p\").values.sum(axis=0)\n",
    "ecistar.shape"
   ]
  },
  {
   "cell_type": "code",
   "execution_count": null,
   "metadata": {},
   "outputs": [],
   "source": [
    "pcistar = df2.pivot(index=\"prod\", columns=\"ry\", values=\"pci_p\").fillna(0).values[:, 0]\n",
    "pcistar.shape"
   ]
  },
  {
   "cell_type": "code",
   "execution_count": null,
   "metadata": {},
   "outputs": [],
   "source": [
    "sio.savemat(\n",
    "    f\"{SAVE_FOLDER}/fig5b.mat\",\n",
    "    {\"Rcpt\": Rcpt, \"zct\": zct, \"ecistar\": ecistar, \"pcistar\": pcistar},\n",
    ")"
   ]
  },
  {
   "cell_type": "code",
   "execution_count": null,
   "metadata": {},
   "outputs": [],
   "source": [
    "df[\"share\"] = np.where(df.regionsum > 0, df.export / df.regionsum, 0)"
   ]
  },
  {
   "cell_type": "code",
   "execution_count": null,
   "metadata": {},
   "outputs": [],
   "source": [
    "sharemat = (\n",
    "    df.assign(ry=df.region + df.year.astype(str))\n",
    "    .pivot(columns=\"prod\", index=\"ry\", values=\"share\")\n",
    "    .fillna(0)\n",
    ")\n",
    "sharemat.shape"
   ]
  },
  {
   "cell_type": "code",
   "execution_count": null,
   "metadata": {},
   "outputs": [],
   "source": [
    "rygini = Index(data=sharemat.values + 1e-12, index=\"gini\").results\n",
    "ryshannon = Index(data=sharemat.values + 1e-12, index=\"shannon\").results\n",
    "ryhhi = Index(data=sharemat.values + 1e-12, index=\"hhi\").results\n",
    "len(rygini), len(ryshannon), len(ryhhi)"
   ]
  },
  {
   "cell_type": "code",
   "execution_count": null,
   "metadata": {},
   "outputs": [],
   "source": [
    "cntrylabel = pd.read_csv(f\"{DATA_FOLDER}/cntrylabel2.tsv\", sep=\"\\t\", dtype=\"string\")\n",
    "cntrylabel.head()\n",
    "cntryagg2 = (\n",
    "    cntryagg[cntryagg.bin > 0]\n",
    "    .assign(ry=cntryagg.region + cntryagg.year.astype(str))\n",
    "    .sort_values(\"ry\")\n",
    "    .reset_index(drop=True)\n",
    ")\n",
    "cntryagg2.head()\n",
    "cntryagg2 = cntryagg2.merge(\n",
    "    pd.DataFrame.from_dict(\n",
    "        {\"gini\": rygini, \"shannon\": ryshannon, \"hhi\": ryhhi, \"ry\": sharemat.index}\n",
    "    ),\n",
    "    how=\"left\",\n",
    ").merge(cntrylabel, how=\"left\")\n",
    "cntryagg2.head()"
   ]
  },
  {
   "cell_type": "code",
   "execution_count": null,
   "metadata": {},
   "outputs": [],
   "source": [
    "cntryagg2.columns"
   ]
  },
  {
   "cell_type": "code",
   "execution_count": null,
   "metadata": {},
   "outputs": [],
   "source": [
    "sio.savemat(\n",
    "    f\"{SAVE_FOLDER}/cntryyear_pmc.mat\",\n",
    "    {\n",
    "        \"struct1\": cntryagg2[\n",
    "            [\n",
    "                \"year\",\n",
    "                \"region\",\n",
    "                \"ry\",\n",
    "                \"avgrca_p\",\n",
    "                \"avgrca_m\",\n",
    "                \"avgrca_c\",\n",
    "                \"proj_p\",\n",
    "                \"proj_m\",\n",
    "                \"proj_c\",\n",
    "                \"eci\",\n",
    "                \"bin\",\n",
    "                \"gdppc\",\n",
    "                \"gini\",\n",
    "                \"shannon\",\n",
    "                \"hhi\",\n",
    "                \"label\",\n",
    "            ]\n",
    "        ]\n",
    "        .rename(\n",
    "            columns={\n",
    "                \"ry\": \"cntryyear\",\n",
    "                \"avgrca_p\": \"zct_p\",\n",
    "                \"proj_p\": \"ecistar_p\",\n",
    "                \"avgrca_m\": \"zct_m\",\n",
    "                \"proj_m\": \"ecistar_m\",\n",
    "                \"avgrca_c\": \"zct_c\",\n",
    "                \"proj_c\": \"ecistar_c\",\n",
    "                \"bin\": \"bindiversity\",\n",
    "            }\n",
    "        )\n",
    "        .to_dict(\"list\")\n",
    "    },\n",
    ")"
   ]
  }
 ],
 "metadata": {
  "kernelspec": {
   "display_name": "Python 3",
   "language": "python",
   "name": "python3"
  },
  "language_info": {
   "codemirror_mode": {
    "name": "ipython",
    "version": 3
   },
   "file_extension": ".py",
   "mimetype": "text/x-python",
   "name": "python",
   "nbconvert_exporter": "python",
   "pygments_lexer": "ipython3",
   "version": "3.10.10"
  }
 },
 "nbformat": 4,
 "nbformat_minor": 4
}
