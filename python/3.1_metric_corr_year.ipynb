{
 "cells": [
  {
   "cell_type": "code",
   "execution_count": null,
   "metadata": {},
   "outputs": [],
   "source": [
    "import pandas as pd\n",
    "import numpy as np\n",
    "import statsmodels.formula.api as smf\n",
    "from girth import twopl_mml\n",
    "from scipy.stats import entropy\n",
    "import matplotlib.pyplot as plt\n",
    "import seaborn as sns\n",
    "from constants import SAVE_FOLDER"
   ]
  },
  {
   "cell_type": "markdown",
   "metadata": {},
   "source": [
    "## Load region-product export data"
   ]
  },
  {
   "cell_type": "code",
   "execution_count": null,
   "metadata": {},
   "outputs": [],
   "source": [
    "trade = pd.read_parquet(f'{SAVE_FOLDER}/cleaned.parquet')\n",
    "trade.head()"
   ]
  },
  {
   "cell_type": "code",
   "execution_count": null,
   "metadata": {},
   "outputs": [],
   "source": [
    "trade.shape,trade['prod'].nunique()"
   ]
  },
  {
   "cell_type": "code",
   "execution_count": null,
   "metadata": {},
   "outputs": [],
   "source": [
    "R0 = 0.115"
   ]
  },
  {
   "cell_type": "code",
   "execution_count": null,
   "metadata": {},
   "outputs": [],
   "source": [
    "df = trade.assign(llrca = np.log(1+trade.rca/R0)/np.log(1+1/R0))\n",
    "df['bin'] = df.export>0\n",
    "df['avgrca_part_p'] = df.llrca*df.pivec_p\n",
    "df['avgrca_part_m'] = df.llrca*df.pivec_m\n",
    "df['avgrca_part_c'] = df.llrca*df.pivec_c\n",
    "df['avgrca_p'] = df.groupby(['year','region'])['avgrca_part_p'].transform(sum)\n",
    "df['avgrca_m'] = df.groupby(['year','region'])['avgrca_part_m'].transform(sum)\n",
    "df['avgrca_c'] = df.groupby(['year','region'])['avgrca_part_c'].transform(sum)\n",
    "df['diversity'] = df.groupby(['year','region'])['binrca'].transform(sum)\n",
    "df.avgrca_p.describe()"
   ]
  },
  {
   "cell_type": "code",
   "execution_count": null,
   "metadata": {},
   "outputs": [],
   "source": [
    "df['rct_p'] = np.where(df.avgrca_p>0,df.llrca/df.avgrca_p,0)\n",
    "df['rct_m'] = np.where(df.avgrca_m>0,df.llrca/df.avgrca_m,0)\n",
    "df['rct_c'] = np.where(df.avgrca_c>0,df.llrca/df.avgrca_c,0)\n",
    "df['rct_demean_p'] = df.rct_p-df.groupby('prod').rct_p.transform('mean')\n",
    "df['rct_demean_m'] = df.rct_m-df.groupby('prod').rct_m.transform('mean')\n",
    "df['rct_demean_c'] = df.rct_c-df.groupby('prod').rct_c.transform('mean')\n",
    "df['proj_p'] = np.where(df.avgrca_p>0, df.pci_p * df.llrca * df.pivec_p / df.avgrca_p,0)\n",
    "df['proj_m'] = np.where(df.avgrca_m>0, df.pci_m * df.llrca * df.pivec_m / df.avgrca_m,0)\n",
    "df['proj_c'] = np.where(df.avgrca_c>0, df.pci_c * df.llrca * df.pivec_c / df.avgrca_c,0)\n",
    "df['eci_part'] = np.where(df.diversity>0,df.pci * df.binrca/df.diversity,0)\n",
    "df.head()"
   ]
  },
  {
   "cell_type": "code",
   "execution_count": null,
   "metadata": {},
   "outputs": [],
   "source": [
    "cntryagg = df.groupby(['year','region'])[['avgrca_part_p','avgrca_part_m','avgrca_part_c','proj_p','proj_m','proj_c','eci_part','bin']].sum().reset_index().rename(columns={'avgrca_part_p':'avgrca_p','avgrca_part_m':'avgrca_m','avgrca_part_c':'avgrca_c','eci_part':'eci'})\n",
    "cntryagg.head()"
   ]
  },
  {
   "cell_type": "code",
   "execution_count": null,
   "metadata": {},
   "outputs": [],
   "source": [
    "cntryagg.year.nunique(),cntryagg.region.nunique()"
   ]
  },
  {
   "cell_type": "code",
   "execution_count": null,
   "metadata": {},
   "outputs": [],
   "source": [
    "cntryagg.shape"
   ]
  },
  {
   "cell_type": "code",
   "execution_count": null,
   "metadata": {},
   "outputs": [],
   "source": [
    "def gen_metric(year):\n",
    "    ## this is simply a collection of metrics shown in 3_metric_comparision\n",
    "    ## diversity\n",
    "    mcpdf = trade[trade.year==year].pivot(index='region',columns='prod',values='binrca').fillna(0)\n",
    "    mcp = mcpdf.values\n",
    "    ubiquity = mcp.sum(axis=0)\n",
    "    diversity = mcp.sum(axis=1)\n",
    "    mcp = mcp[diversity>0,:]\n",
    "    #ECI\n",
    "    kp = mcp.sum(axis=0)\n",
    "    kc = mcp.sum(axis=1)\n",
    "    mr = np.diag(1/kc) @ mcp @ np.diag(1/kp) @ mcp.T\n",
    "    eigvals2,eigvecs2 = np.linalg.eig(mr)\n",
    "    eigvecs2 = np.real(eigvecs2)\n",
    "    eci = np.sign(np.corrcoef(kc,eigvecs2[:,1])[0,1])*eigvecs2[:,1]\n",
    "    ## fitness\n",
    "    qp = np.ones(mcp.shape[1])\n",
    "    fc = np.ones(mcp.shape[0])\n",
    "    for i in range(20):\n",
    "        fc_t = mcp @ qp\n",
    "        qp_t = 1/(mcp.T @ (1/fc))\n",
    "        fc = fc_t / fc_t.mean()\n",
    "        qp = qp_t / qp_t.mean()\n",
    "    ## fitness v2\n",
    "    delta = 0.001\n",
    "    pp2 = np.ones(mcp.shape[1])/delta\n",
    "    fc2 = np.ones(mcp.shape[0])*delta\n",
    "    for i in range(100):\n",
    "        fc2_tmp = delta*delta + mcp @ (1/pp2)\n",
    "        pp2_tmp = 1 + mcp.T @ (1/fc2)\n",
    "        fc2 = fc2_tmp\n",
    "        pp2 = pp2_tmp\n",
    "    qp2 = 1/(pp2-1)\n",
    "    ## genepy\n",
    "    kp_1 = (np.diag(1/kc) @ mcp).sum(axis=0)\n",
    "    wcp = np.diag(1/kc) @ mcp @ np.diag(1/kp_1)\n",
    "    ncc = wcp @ wcp.T\n",
    "    np.fill_diagonal(ncc, 0)\n",
    "    eigvals,eigvecs = np.linalg.eig(ncc)\n",
    "    xc1 = np.absolute(eigvecs[:,0])\n",
    "    xc2 = eigvecs[:,1]\n",
    "    lambda1 = eigvals[0]\n",
    "    lambda2 = eigvals[1]\n",
    "    genepy = np.square(lambda1*np.square(xc1)+lambda2*np.square(xc2))+2*(lambda1**2*np.square(xc1)+lambda2**2*np.square(xc2))\n",
    "    ## production ability\n",
    "    estimates = twopl_mml(mcp.T)\n",
    "    ## fixed effects\n",
    "    fedf = trade[(trade.year==year)&(trade.export>0)][['region','prod','export','rca','regionsum','prodsum']].copy()\n",
    "    fedf['ycp'] = -np.log(-np.log(fedf.rca/(fedf.rca+1)))\n",
    "    fedf['regionshare'] = fedf.export/fedf.regionsum\n",
    "    fedf['prodshare'] = fedf.export/fedf.prodsum\n",
    "    res = smf.ols(formula='ycp ~ region+prod', data=fedf).fit()\n",
    "    fecoefdf = pd.DataFrame({'fe':res.params[1:]}).reset_index()\n",
    "    fecoefdf['var'] = fecoefdf['index'].str[-4:-1]\n",
    "    gamma_c = fedf[['region']].drop_duplicates().merge(fecoefdf[['var','fe']].rename(columns={'var':'region'}),how='left').fillna(0)\n",
    "    ## entropy\n",
    "    tmpdf2 = fedf[['region','prod','export']].copy()\n",
    "    tmpdf2['hc'] = tmpdf2.groupby('region')['export'].transform(entropy)\n",
    "    tmpdf2['hp'] = tmpdf2.groupby('prod')['export'].transform(entropy)\n",
    "    tmpdf2['xcp'] = tmpdf2.export*(np.log(233) - tmpdf2.hp)\n",
    "    tmpdf2['ycp'] = tmpdf2.export*(np.log(235) - tmpdf2.hc)\n",
    "    tmpdf2['xcpr'] = tmpdf2.xcp/tmpdf2.groupby('region')['xcp'].transform(sum)\n",
    "    tmpdf2['ycpr'] = tmpdf2.ycp/tmpdf2.groupby('prod')['ycp'].transform(sum)\n",
    "    for i in range(25):\n",
    "        tmpdf2['hc'] = tmpdf2.groupby('region')['xcpr'].transform(entropy)\n",
    "        tmpdf2['hp'] = tmpdf2.groupby('prod')['ycpr'].transform(entropy)\n",
    "        tmpdf2['xcp'] = tmpdf2.export*(np.log(233) - tmpdf2.hp)\n",
    "        tmpdf2['ycp'] = tmpdf2.export*(np.log(235) - tmpdf2.hc)\n",
    "        tmpdf2['xcpr'] = tmpdf2.xcp/tmpdf2.groupby('region')['xcp'].transform(sum)\n",
    "        tmpdf2['ycpr'] = tmpdf2.ycp/tmpdf2.groupby('prod')['ycp'].transform(sum)\n",
    "    regiondf2 = tmpdf2[['region','hc']].drop_duplicates().sort_values('region')\n",
    "    ## collect result\n",
    "    resdf = pd.DataFrame(\n",
    "        {\n",
    "            \"fitness_year\": fc,\n",
    "            \"fitness_v2\": fc2,\n",
    "            \"eci_year\": eci,\n",
    "            \"kc\": kc,\n",
    "            \"xc1\": xc1,\n",
    "            \"xc2\": xc2,\n",
    "            \"genepy\": genepy,\n",
    "            \"ability\": estimates[\"Ability\"],\n",
    "        },\n",
    "        index=mcpdf.index[diversity > 0],\n",
    "    ).reset_index()\n",
    "    resdf = resdf.merge(gamma_c).merge(regiondf2).merge(cntryagg[(cntryagg.year==year)&(cntryagg.bin>0)].drop(columns=['year']), how='left')\n",
    "    return resdf"
   ]
  },
  {
   "cell_type": "code",
   "execution_count": null,
   "metadata": {},
   "outputs": [],
   "source": [
    "# Loop over years (~50 min on laptop)\n",
    "regiondict = dict()\n",
    "for year in range(1962,2019):\n",
    "    print(f'processing {year}...')\n",
    "    try:\n",
    "        regiondict[f'year{year}'] = gen_metric(year)\n",
    "    except:\n",
    "        print(f'{year} has error!')"
   ]
  },
  {
   "cell_type": "code",
   "execution_count": null,
   "metadata": {},
   "outputs": [],
   "source": [
    "region_metricdf = pd.concat([regiondict[f'year{year}'].assign(year=year) for year in range(1962,2019)])\n",
    "region_metricdf['x1d'] = region_metricdf.xc1 * region_metricdf.kc\n",
    "region_metricdf['x2divsqrtd'] = region_metricdf.xc2 / np.sqrt(region_metricdf.kc)"
   ]
  },
  {
   "cell_type": "code",
   "execution_count": null,
   "metadata": {},
   "outputs": [],
   "source": [
    "## adjust signs of x2divsqrtd for comparision\n",
    "signdf = np.sign(region_metricdf.groupby('year')[['x2divsqrtd','eci_year']].corr().unstack().iloc[:,1]).reset_index()\n",
    "signdf.columns=['year','sign']\n",
    "region_metricdf = region_metricdf.merge(signdf,how='left')\n",
    "region_metricdf['x2divsqrtd'] = region_metricdf['x2divsqrtd'] * region_metricdf['sign']"
   ]
  },
  {
   "cell_type": "code",
   "execution_count": null,
   "metadata": {},
   "outputs": [],
   "source": [
    "region_year_corr = region_metricdf.drop(columns=['region']).groupby('year').corr().stack().reset_index()\n",
    "region_year_corr.columns=['year','metric1','metric2','corrcoef']\n",
    "region_year_corr.head()"
   ]
  },
  {
   "cell_type": "code",
   "execution_count": null,
   "metadata": {},
   "outputs": [],
   "source": [
    "region_year_corr2 = region_metricdf.drop(columns=['region']).groupby('year').corr(method='spearman').stack().reset_index()\n",
    "region_year_corr2.columns=['year','metric1','metric2','corrcoef']\n",
    "region_year_corr2.head()"
   ]
  },
  {
   "cell_type": "code",
   "execution_count": null,
   "metadata": {},
   "outputs": [],
   "source": [
    "region_year_corr.to_csv(f'{SAVE_FOLDER}/region_year_corr.tsv',sep='\\t',index=False)\n",
    "region_year_corr2.to_csv(F'{SAVE_FOLDER}/region_year_rankcorr.tsv',sep='\\t',index=False)"
   ]
  }
 ],
 "metadata": {
  "kernelspec": {
   "display_name": "Python 3 (ipykernel)",
   "language": "python",
   "name": "python3"
  },
  "language_info": {
   "codemirror_mode": {
    "name": "ipython",
    "version": 3
   },
   "file_extension": ".py",
   "mimetype": "text/x-python",
   "name": "python",
   "nbconvert_exporter": "python",
   "pygments_lexer": "ipython3",
   "version": "3.11.9"
  }
 },
 "nbformat": 4,
 "nbformat_minor": 4
}
